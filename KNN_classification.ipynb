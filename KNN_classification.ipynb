{
  "nbformat": 4,
  "nbformat_minor": 0,
  "metadata": {
    "colab": {
      "name": "19BCP130-Assgn-4-KNN-classification.ipynb",
      "provenance": [],
      "collapsed_sections": []
    },
    "kernelspec": {
      "name": "python3",
      "display_name": "Python 3"
    },
    "language_info": {
      "name": "python"
    }
  },
  "cells": [
    {
      "cell_type": "code",
      "metadata": {
        "id": "RuH0CxAxs9te"
      },
      "source": [
        "from sklearn.datasets import load_iris\n",
        "import numpy as np\n",
        "from numpy.random import randint\n",
        "from scipy.stats import mode\n",
        "from sklearn.model_selection import train_test_split"
      ],
      "execution_count": null,
      "outputs": []
    },
    {
      "cell_type": "code",
      "metadata": {
        "id": "4pvpGXkryAyI"
      },
      "source": [
        "iris = load_iris()"
      ],
      "execution_count": null,
      "outputs": []
    },
    {
      "cell_type": "code",
      "metadata": {
        "id": "NkZoC1N0yLu-"
      },
      "source": [
        "X = iris.data\n",
        "y = iris.target\n",
        "X_train, X_test, y_train, y_test = train_test_split(X, y, test_size=0.2)"
      ],
      "execution_count": null,
      "outputs": []
    },
    {
      "cell_type": "code",
      "metadata": {
        "id": "mXuvuf2NySlG"
      },
      "source": [
        "def euDis(l1,l2):\n",
        "    dist = np.sqrt(np.sum((l1-l2)**2))\n",
        "    return dist\n",
        " \n",
        "def cls(x_train, y , x_input, k):\n",
        "    labels_ds = []\n",
        "    for i in x_input: \n",
        "         \n",
        "        distTot = []\n",
        "         \n",
        "        for j in range(len(x_train)): \n",
        "            d = euDis(np.array(x_train[j,:]) , i) \n",
        "            distTot.append(d) \n",
        "        distTot = np.array(distTot) \n",
        "         \n",
        "        di = np.argsort(distTot)[:k] \n",
        "         \n",
        "        tar = y[di]\n",
        "         \n",
        "        l = mode(tar) \n",
        "        l = l.mode[0]\n",
        "        labels_ds.append(l)\n",
        " \n",
        "    return labels_ds"
      ],
      "execution_count": null,
      "outputs": []
    },
    {
      "cell_type": "code",
      "metadata": {
        "colab": {
          "base_uri": "https://localhost:8080/"
        },
        "id": "8fM5Zxvv0RqZ",
        "outputId": "c89fbbb8-ba37-406d-e73e-3c123983cdd4"
      },
      "source": [
        "prediction3 = cls(X_train,  y_train, X_test, 3)\n",
        "from sklearn.metrics import accuracy_score\n",
        "accuracy_score(y_test, prediction3)"
      ],
      "execution_count": null,
      "outputs": [
        {
          "output_type": "execute_result",
          "data": {
            "text/plain": [
              "1.0"
            ]
          },
          "metadata": {},
          "execution_count": 240
        }
      ]
    },
    {
      "cell_type": "code",
      "metadata": {
        "colab": {
          "base_uri": "https://localhost:8080/"
        },
        "id": "vN4ksekp66SS",
        "outputId": "ba48edec-6778-4764-cb7c-57ce544f9f1f"
      },
      "source": [
        "prediction5 = cls(X_train, y_train, X_test, 5)\n",
        "print(\"Accuracy for KNN with K=3 => \",end=\"\")\n",
        "print(accuracy_score(y_test, prediction3))\n",
        "print(\"\")\n",
        "print(\"Accuracy for KNN with K=5 => \",end=\"\")\n",
        "print(accuracy_score(y_test, prediction5))\n",
        "print(\"\")\n",
        "print(\"Accuracy by Decision tree classifier => 0.966667\")\n",
        "print(\"\")\n",
        "print(\"    --------Accuracy Order:--------\")\n",
        "print(\"Decision Tree Classifier < KNN (K = 3) = KNN (K = 5) \")"
      ],
      "execution_count": null,
      "outputs": [
        {
          "output_type": "stream",
          "name": "stdout",
          "text": [
            "Accuracy for KNN with K=3 => 1.0\n",
            "\n",
            "Accuracy for KNN with K=5 => 1.0\n",
            "\n",
            "Accuracy by Decision tree classifier => 0.966667\n",
            "\n",
            "    --------Accuracy Order:--------\n",
            "Decision Tree Classifier < KNN (K = 3) = KNN (K = 5) \n"
          ]
        }
      ]
    }
  ]
}